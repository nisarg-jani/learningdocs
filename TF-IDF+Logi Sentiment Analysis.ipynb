{
 "cells": [
  {
   "cell_type": "markdown",
   "id": "2ecc7e1d-5f62-4e2c-b3bd-bab480677e05",
   "metadata": {},
   "source": [
    "# 1) Using TF-IDF"
   ]
  },
  {
   "cell_type": "markdown",
   "id": "f27018f1-a2bd-4593-ac04-743e55b85852",
   "metadata": {},
   "source": [
    "## Loading Dataset"
   ]
  },
  {
   "cell_type": "code",
   "execution_count": 93,
   "id": "adca0816-3fe5-4a26-ad2c-533b1422672c",
   "metadata": {},
   "outputs": [],
   "source": [
    "import pandas as pd"
   ]
  },
  {
   "cell_type": "code",
   "execution_count": 94,
   "id": "096b835c-7333-48f1-82fd-cee7aacaaf00",
   "metadata": {},
   "outputs": [],
   "source": [
    "file_path = r\"Z:\\BD\\Novumgen\\Data\\Business Analysis\\Backup\\Nisarg\\Learning\\DataBase\\Sentiment Analysis Dataset\\Reviews.csv\"\n",
    "df = pd.read_csv(file_path)"
   ]
  },
  {
   "cell_type": "code",
   "execution_count": 95,
   "id": "36e057c3-ee91-46be-80f4-dcacefffc6a4",
   "metadata": {},
   "outputs": [
    {
     "data": {
      "text/plain": [
       "Index(['Id', 'ProductId', 'UserId', 'ProfileName', 'HelpfulnessNumerator',\n",
       "       'HelpfulnessDenominator', 'Score', 'Time', 'Summary', 'Text'],\n",
       "      dtype='object')"
      ]
     },
     "execution_count": 95,
     "metadata": {},
     "output_type": "execute_result"
    }
   ],
   "source": [
    "df.columns"
   ]
  },
  {
   "cell_type": "code",
   "execution_count": 96,
   "id": "ac8d323f-af08-4310-8a59-ae08ced6a25c",
   "metadata": {},
   "outputs": [
    {
     "name": "stdout",
     "output_type": "stream",
     "text": [
      "<class 'pandas.core.frame.DataFrame'>\n",
      "RangeIndex: 568454 entries, 0 to 568453\n",
      "Data columns (total 10 columns):\n",
      " #   Column                  Non-Null Count   Dtype \n",
      "---  ------                  --------------   ----- \n",
      " 0   Id                      568454 non-null  int64 \n",
      " 1   ProductId               568454 non-null  object\n",
      " 2   UserId                  568454 non-null  object\n",
      " 3   ProfileName             568428 non-null  object\n",
      " 4   HelpfulnessNumerator    568454 non-null  int64 \n",
      " 5   HelpfulnessDenominator  568454 non-null  int64 \n",
      " 6   Score                   568454 non-null  int64 \n",
      " 7   Time                    568454 non-null  int64 \n",
      " 8   Summary                 568427 non-null  object\n",
      " 9   Text                    568454 non-null  object\n",
      "dtypes: int64(5), object(5)\n",
      "memory usage: 43.4+ MB\n"
     ]
    }
   ],
   "source": [
    "df.info()"
   ]
  },
  {
   "cell_type": "code",
   "execution_count": 97,
   "id": "d27bc2b1-88a0-4e1e-9858-63d626b72fd4",
   "metadata": {},
   "outputs": [
    {
     "data": {
      "text/html": [
       "<div>\n",
       "<style scoped>\n",
       "    .dataframe tbody tr th:only-of-type {\n",
       "        vertical-align: middle;\n",
       "    }\n",
       "\n",
       "    .dataframe tbody tr th {\n",
       "        vertical-align: top;\n",
       "    }\n",
       "\n",
       "    .dataframe thead th {\n",
       "        text-align: right;\n",
       "    }\n",
       "</style>\n",
       "<table border=\"1\" class=\"dataframe\">\n",
       "  <thead>\n",
       "    <tr style=\"text-align: right;\">\n",
       "      <th></th>\n",
       "      <th>Id</th>\n",
       "      <th>ProductId</th>\n",
       "      <th>UserId</th>\n",
       "      <th>ProfileName</th>\n",
       "      <th>HelpfulnessNumerator</th>\n",
       "      <th>HelpfulnessDenominator</th>\n",
       "      <th>Score</th>\n",
       "      <th>Time</th>\n",
       "      <th>Summary</th>\n",
       "      <th>Text</th>\n",
       "    </tr>\n",
       "  </thead>\n",
       "  <tbody>\n",
       "    <tr>\n",
       "      <th>165256</th>\n",
       "      <td>165257</td>\n",
       "      <td>B000EVG8J2</td>\n",
       "      <td>A1L01D2BD3RKVO</td>\n",
       "      <td>B. Miller \"pet person\"</td>\n",
       "      <td>0</td>\n",
       "      <td>0</td>\n",
       "      <td>5</td>\n",
       "      <td>1268179200</td>\n",
       "      <td>Crunchy &amp; Good Gluten-Free Sandwich Cookies!</td>\n",
       "      <td>Having tried a couple of other brands of glute...</td>\n",
       "    </tr>\n",
       "    <tr>\n",
       "      <th>231465</th>\n",
       "      <td>231466</td>\n",
       "      <td>B0000BXJIS</td>\n",
       "      <td>A3U62RE5XZDP0G</td>\n",
       "      <td>Marty</td>\n",
       "      <td>0</td>\n",
       "      <td>0</td>\n",
       "      <td>5</td>\n",
       "      <td>1298937600</td>\n",
       "      <td>great kitty treats</td>\n",
       "      <td>My cat loves these treats. If ever I can't fin...</td>\n",
       "    </tr>\n",
       "    <tr>\n",
       "      <th>427827</th>\n",
       "      <td>427828</td>\n",
       "      <td>B008FHUFAU</td>\n",
       "      <td>AOXC0JQQZGGB6</td>\n",
       "      <td>Kenneth Shevlin</td>\n",
       "      <td>0</td>\n",
       "      <td>2</td>\n",
       "      <td>3</td>\n",
       "      <td>1224028800</td>\n",
       "      <td>COFFEE TASTE</td>\n",
       "      <td>A little less than I expected.  It tends to ha...</td>\n",
       "    </tr>\n",
       "    <tr>\n",
       "      <th>433954</th>\n",
       "      <td>433955</td>\n",
       "      <td>B006BXV14E</td>\n",
       "      <td>A3PWPNZVMNX3PA</td>\n",
       "      <td>rareoopdvds</td>\n",
       "      <td>0</td>\n",
       "      <td>1</td>\n",
       "      <td>2</td>\n",
       "      <td>1335312000</td>\n",
       "      <td>So the Mini-Wheats were too big?</td>\n",
       "      <td>First there was Frosted Mini-Wheats, in origin...</td>\n",
       "    </tr>\n",
       "    <tr>\n",
       "      <th>70260</th>\n",
       "      <td>70261</td>\n",
       "      <td>B007I7Z3Z0</td>\n",
       "      <td>A1XNZ7PCE45KK7</td>\n",
       "      <td>Og8ys1</td>\n",
       "      <td>0</td>\n",
       "      <td>2</td>\n",
       "      <td>5</td>\n",
       "      <td>1334707200</td>\n",
       "      <td>Great Taste . . .</td>\n",
       "      <td>and I want to congratulate the graphic artist ...</td>\n",
       "    </tr>\n",
       "  </tbody>\n",
       "</table>\n",
       "</div>"
      ],
      "text/plain": [
       "            Id   ProductId          UserId             ProfileName  \\\n",
       "165256  165257  B000EVG8J2  A1L01D2BD3RKVO  B. Miller \"pet person\"   \n",
       "231465  231466  B0000BXJIS  A3U62RE5XZDP0G                   Marty   \n",
       "427827  427828  B008FHUFAU   AOXC0JQQZGGB6         Kenneth Shevlin   \n",
       "433954  433955  B006BXV14E  A3PWPNZVMNX3PA             rareoopdvds   \n",
       "70260    70261  B007I7Z3Z0  A1XNZ7PCE45KK7                  Og8ys1   \n",
       "\n",
       "        HelpfulnessNumerator  HelpfulnessDenominator  Score        Time  \\\n",
       "165256                     0                       0      5  1268179200   \n",
       "231465                     0                       0      5  1298937600   \n",
       "427827                     0                       2      3  1224028800   \n",
       "433954                     0                       1      2  1335312000   \n",
       "70260                      0                       2      5  1334707200   \n",
       "\n",
       "                                             Summary  \\\n",
       "165256  Crunchy & Good Gluten-Free Sandwich Cookies!   \n",
       "231465                            great kitty treats   \n",
       "427827                                  COFFEE TASTE   \n",
       "433954              So the Mini-Wheats were too big?   \n",
       "70260                              Great Taste . . .   \n",
       "\n",
       "                                                     Text  \n",
       "165256  Having tried a couple of other brands of glute...  \n",
       "231465  My cat loves these treats. If ever I can't fin...  \n",
       "427827  A little less than I expected.  It tends to ha...  \n",
       "433954  First there was Frosted Mini-Wheats, in origin...  \n",
       "70260   and I want to congratulate the graphic artist ...  "
      ]
     },
     "execution_count": 97,
     "metadata": {},
     "output_type": "execute_result"
    }
   ],
   "source": [
    "df.sample(5)"
   ]
  },
  {
   "cell_type": "code",
   "execution_count": 98,
   "id": "74f924df-68ce-41d7-b2ff-815081bac6be",
   "metadata": {},
   "outputs": [
    {
     "data": {
      "text/plain": [
       "Score\n",
       "5    363122\n",
       "4     80655\n",
       "1     52268\n",
       "3     42640\n",
       "2     29769\n",
       "Name: count, dtype: int64"
      ]
     },
     "execution_count": 98,
     "metadata": {},
     "output_type": "execute_result"
    }
   ],
   "source": [
    "df['Score'].value_counts(ascending=False)"
   ]
  },
  {
   "cell_type": "markdown",
   "id": "0e2d5d90-53da-41a8-a4c0-1d7db70106f5",
   "metadata": {},
   "source": [
    "## Label Sentiment"
   ]
  },
  {
   "cell_type": "code",
   "execution_count": 99,
   "id": "9e18ed23-7fa4-453e-ba9d-c26dfa2d55b6",
   "metadata": {},
   "outputs": [],
   "source": [
    "def label_sentiment(rating):\n",
    "    if rating <= 2:\n",
    "        return 'Negative'\n",
    "    elif rating >= 4:\n",
    "        return 'Positive'\n",
    "    else:\n",
    "        return 'Neutral'"
   ]
  },
  {
   "cell_type": "code",
   "execution_count": 100,
   "id": "63504a26-73f4-45a6-ae43-a1dbe91e1fbe",
   "metadata": {},
   "outputs": [],
   "source": [
    "df['Sentiment'] = df['Score'].apply(label_sentiment)"
   ]
  },
  {
   "cell_type": "code",
   "execution_count": 101,
   "id": "68b0362c-acd9-419f-b301-0158bc7b501c",
   "metadata": {},
   "outputs": [
    {
     "data": {
      "text/html": [
       "<div>\n",
       "<style scoped>\n",
       "    .dataframe tbody tr th:only-of-type {\n",
       "        vertical-align: middle;\n",
       "    }\n",
       "\n",
       "    .dataframe tbody tr th {\n",
       "        vertical-align: top;\n",
       "    }\n",
       "\n",
       "    .dataframe thead th {\n",
       "        text-align: right;\n",
       "    }\n",
       "</style>\n",
       "<table border=\"1\" class=\"dataframe\">\n",
       "  <thead>\n",
       "    <tr style=\"text-align: right;\">\n",
       "      <th></th>\n",
       "      <th>Id</th>\n",
       "      <th>ProductId</th>\n",
       "      <th>UserId</th>\n",
       "      <th>ProfileName</th>\n",
       "      <th>HelpfulnessNumerator</th>\n",
       "      <th>HelpfulnessDenominator</th>\n",
       "      <th>Score</th>\n",
       "      <th>Time</th>\n",
       "      <th>Summary</th>\n",
       "      <th>Text</th>\n",
       "      <th>Sentiment</th>\n",
       "    </tr>\n",
       "  </thead>\n",
       "  <tbody>\n",
       "    <tr>\n",
       "      <th>433523</th>\n",
       "      <td>433524</td>\n",
       "      <td>B00473NLIO</td>\n",
       "      <td>A1SZ66QDEODEQ8</td>\n",
       "      <td>J. Hansen \"Jan H\"</td>\n",
       "      <td>0</td>\n",
       "      <td>1</td>\n",
       "      <td>5</td>\n",
       "      <td>1302912000</td>\n",
       "      <td>Yummy!</td>\n",
       "      <td>I love this barbecue sauce!  I cannot find it ...</td>\n",
       "      <td>Positive</td>\n",
       "    </tr>\n",
       "    <tr>\n",
       "      <th>561483</th>\n",
       "      <td>561484</td>\n",
       "      <td>B000O393QK</td>\n",
       "      <td>A1R5TFXVMFQ1P1</td>\n",
       "      <td>alsugarbelle</td>\n",
       "      <td>0</td>\n",
       "      <td>0</td>\n",
       "      <td>5</td>\n",
       "      <td>1218585600</td>\n",
       "      <td>Great tea!</td>\n",
       "      <td>I bought my Tassimo system on ebay and I was d...</td>\n",
       "      <td>Positive</td>\n",
       "    </tr>\n",
       "    <tr>\n",
       "      <th>520715</th>\n",
       "      <td>520716</td>\n",
       "      <td>B002WWLJQ8</td>\n",
       "      <td>A15SMN6DNQ3D1D</td>\n",
       "      <td>jc</td>\n",
       "      <td>0</td>\n",
       "      <td>0</td>\n",
       "      <td>5</td>\n",
       "      <td>1327449600</td>\n",
       "      <td>great in protein drinks</td>\n",
       "      <td>I like to work out and loose weight the easies...</td>\n",
       "      <td>Positive</td>\n",
       "    </tr>\n",
       "    <tr>\n",
       "      <th>16074</th>\n",
       "      <td>16075</td>\n",
       "      <td>B0054TWQ2C</td>\n",
       "      <td>A224KM22RQ5CD4</td>\n",
       "      <td>Amazon_Junkie</td>\n",
       "      <td>0</td>\n",
       "      <td>0</td>\n",
       "      <td>3</td>\n",
       "      <td>1329782400</td>\n",
       "      <td>Lacks flavor</td>\n",
       "      <td>I've been a fan of Nong Shim spicy noodles for...</td>\n",
       "      <td>Neutral</td>\n",
       "    </tr>\n",
       "    <tr>\n",
       "      <th>194497</th>\n",
       "      <td>194498</td>\n",
       "      <td>B003ZT61E2</td>\n",
       "      <td>AN4HRAGRHHX1H</td>\n",
       "      <td>Heather Harris \"ATitus2Woman\"</td>\n",
       "      <td>0</td>\n",
       "      <td>0</td>\n",
       "      <td>5</td>\n",
       "      <td>1320537600</td>\n",
       "      <td>peppermint mocha maxwell house</td>\n",
       "      <td>Totally yummy pepperminty flavor!  I have been...</td>\n",
       "      <td>Positive</td>\n",
       "    </tr>\n",
       "  </tbody>\n",
       "</table>\n",
       "</div>"
      ],
      "text/plain": [
       "            Id   ProductId          UserId                    ProfileName  \\\n",
       "433523  433524  B00473NLIO  A1SZ66QDEODEQ8              J. Hansen \"Jan H\"   \n",
       "561483  561484  B000O393QK  A1R5TFXVMFQ1P1                   alsugarbelle   \n",
       "520715  520716  B002WWLJQ8  A15SMN6DNQ3D1D                             jc   \n",
       "16074    16075  B0054TWQ2C  A224KM22RQ5CD4                  Amazon_Junkie   \n",
       "194497  194498  B003ZT61E2   AN4HRAGRHHX1H  Heather Harris \"ATitus2Woman\"   \n",
       "\n",
       "        HelpfulnessNumerator  HelpfulnessDenominator  Score        Time  \\\n",
       "433523                     0                       1      5  1302912000   \n",
       "561483                     0                       0      5  1218585600   \n",
       "520715                     0                       0      5  1327449600   \n",
       "16074                      0                       0      3  1329782400   \n",
       "194497                     0                       0      5  1320537600   \n",
       "\n",
       "                               Summary  \\\n",
       "433523                          Yummy!   \n",
       "561483                      Great tea!   \n",
       "520715         great in protein drinks   \n",
       "16074                     Lacks flavor   \n",
       "194497  peppermint mocha maxwell house   \n",
       "\n",
       "                                                     Text Sentiment  \n",
       "433523  I love this barbecue sauce!  I cannot find it ...  Positive  \n",
       "561483  I bought my Tassimo system on ebay and I was d...  Positive  \n",
       "520715  I like to work out and loose weight the easies...  Positive  \n",
       "16074   I've been a fan of Nong Shim spicy noodles for...   Neutral  \n",
       "194497  Totally yummy pepperminty flavor!  I have been...  Positive  "
      ]
     },
     "execution_count": 101,
     "metadata": {},
     "output_type": "execute_result"
    }
   ],
   "source": [
    "df.sample(5)"
   ]
  },
  {
   "cell_type": "code",
   "execution_count": 10,
   "id": "128696b3-9cc7-4b2d-af05-d283fc734c1a",
   "metadata": {},
   "outputs": [
    {
     "data": {
      "text/plain": [
       "Sentiment\n",
       "Positive    443777\n",
       "Negative     82037\n",
       "Neutral      42640\n",
       "Name: count, dtype: int64"
      ]
     },
     "execution_count": 10,
     "metadata": {},
     "output_type": "execute_result"
    }
   ],
   "source": [
    "df['Sentiment'].value_counts()"
   ]
  },
  {
   "cell_type": "markdown",
   "id": "35a876af-682a-43f9-98a4-152a26661fb8",
   "metadata": {},
   "source": [
    "## Text Cleaning"
   ]
  },
  {
   "cell_type": "code",
   "execution_count": 11,
   "id": "51f153f4-1e6a-4b19-9952-1971720cba0d",
   "metadata": {},
   "outputs": [
    {
     "name": "stderr",
     "output_type": "stream",
     "text": [
      "[nltk_data] Downloading package stopwords to\n",
      "[nltk_data]     C:\\Users\\janinisa\\AppData\\Roaming\\nltk_data...\n",
      "[nltk_data]   Package stopwords is already up-to-date!\n",
      "[nltk_data] Downloading package wordnet to\n",
      "[nltk_data]     C:\\Users\\janinisa\\AppData\\Roaming\\nltk_data...\n",
      "[nltk_data]   Package wordnet is already up-to-date!\n"
     ]
    },
    {
     "data": {
      "text/plain": [
       "True"
      ]
     },
     "execution_count": 11,
     "metadata": {},
     "output_type": "execute_result"
    }
   ],
   "source": [
    "import re\n",
    "import string\n",
    "import nltk\n",
    "from nltk.corpus import stopwords\n",
    "from nltk.stem import WordNetLemmatizer\n",
    "\n",
    "nltk.download('stopwords')\n",
    "nltk.download('wordnet')"
   ]
  },
  {
   "cell_type": "code",
   "execution_count": 12,
   "id": "3733d772-78e0-4d18-ae5c-059c6f6af47c",
   "metadata": {
    "scrolled": true
   },
   "outputs": [
    {
     "data": {
      "text/plain": [
       "['albanian',\n",
       " 'arabic',\n",
       " 'azerbaijani',\n",
       " 'basque',\n",
       " 'belarusian',\n",
       " 'bengali',\n",
       " 'catalan',\n",
       " 'chinese',\n",
       " 'danish',\n",
       " 'dutch',\n",
       " 'english',\n",
       " 'finnish',\n",
       " 'french',\n",
       " 'german',\n",
       " 'greek',\n",
       " 'hebrew',\n",
       " 'hinglish',\n",
       " 'hungarian',\n",
       " 'indonesian',\n",
       " 'italian',\n",
       " 'kazakh',\n",
       " 'nepali',\n",
       " 'norwegian',\n",
       " 'portuguese',\n",
       " 'romanian',\n",
       " 'russian',\n",
       " 'slovene',\n",
       " 'spanish',\n",
       " 'swedish',\n",
       " 'tajik',\n",
       " 'tamil',\n",
       " 'turkish']"
      ]
     },
     "execution_count": 12,
     "metadata": {},
     "output_type": "execute_result"
    }
   ],
   "source": [
    "stopwords.fileids()"
   ]
  },
  {
   "cell_type": "code",
   "execution_count": 13,
   "id": "0d43a800-21c7-4df7-a48c-497f1f6a90a8",
   "metadata": {},
   "outputs": [],
   "source": [
    "stop_words = stopwords.words('english')\n",
    "lemmatizer = WordNetLemmatizer()\n",
    "\n",
    "def clean_text(text):\n",
    "    text = text.lower()\n",
    "    text = re.sub(r'http\\S+|www\\S+|<.*?>','',text) #replace 3 patters with null. http\\S+ , www/S+ , <.*?>\n",
    "    text = text.translate(str.maketrans('', '', string.punctuation))\n",
    "    words = [lemmatizer.lemmatize(word) for word in text.split() if word not in stop_words]\n",
    "    return ' '.join(words)"
   ]
  },
  {
   "cell_type": "markdown",
   "id": "52d8540b-9ddd-48d2-a1ae-209c7d1e959f",
   "metadata": {},
   "source": [
    "## text = re.sub(r'http\\S+|www\\S+|<.*?>','',text) - replace 3 patters with null. http\\S+ , www/S+ , <.*?>\n",
    "### http\\S+\n",
    "#### Matches any substring starting with \"http\" followed by one or more non-space characters (\\S+).\n",
    "#### example: http://example.com, https://abc.xyz\n",
    "\n",
    "### www/S+\n",
    "#### Matches substrings starting with \"www\" followed by non-space characters.\n",
    "#### example: www.google.com, www.test.org\n",
    "\n",
    "### <.*?>\n",
    "#### Matches HTML tags (anything between < and >). The .*? is a non-greedy match (captures minimal text between < and >).\n",
    "#### example: &lt;p&gt;, &lt;a href=\"link\"&gt;, &lt;b&gt;"
   ]
  },
  {
   "cell_type": "markdown",
   "id": "6918e1d0-4f51-4220-a604-a3356a98e085",
   "metadata": {},
   "source": [
    "## text = text.translate(str.maketrans('', '', string.punctuation))\n",
    "\n",
    "### .maketrans()\n",
    "#### provides the translation rule\n",
    "#### .maketrans(x,y,z) x=Characters to be replaced, y=Characters to replace them with, z =Characters to delete completely\n",
    "#### string.punctuation → all punctuation characters\n",
    "\n",
    "### .translate()\n",
    "#### uses that rule to modify the text"
   ]
  },
  {
   "cell_type": "code",
   "execution_count": 14,
   "id": "cb748659-e6ca-4abe-b1aa-115ad9579acc",
   "metadata": {},
   "outputs": [],
   "source": [
    "df['cleaned_text'] = df['Text'].apply(clean_text)"
   ]
  },
  {
   "cell_type": "code",
   "execution_count": 15,
   "id": "8c97cf4b-29f8-4a3a-be0d-0899d54435a8",
   "metadata": {},
   "outputs": [
    {
     "data": {
      "text/html": [
       "<div>\n",
       "<style scoped>\n",
       "    .dataframe tbody tr th:only-of-type {\n",
       "        vertical-align: middle;\n",
       "    }\n",
       "\n",
       "    .dataframe tbody tr th {\n",
       "        vertical-align: top;\n",
       "    }\n",
       "\n",
       "    .dataframe thead th {\n",
       "        text-align: right;\n",
       "    }\n",
       "</style>\n",
       "<table border=\"1\" class=\"dataframe\">\n",
       "  <thead>\n",
       "    <tr style=\"text-align: right;\">\n",
       "      <th></th>\n",
       "      <th>Id</th>\n",
       "      <th>ProductId</th>\n",
       "      <th>UserId</th>\n",
       "      <th>ProfileName</th>\n",
       "      <th>HelpfulnessNumerator</th>\n",
       "      <th>HelpfulnessDenominator</th>\n",
       "      <th>Score</th>\n",
       "      <th>Time</th>\n",
       "      <th>Summary</th>\n",
       "      <th>Text</th>\n",
       "      <th>Sentiment</th>\n",
       "      <th>cleaned_text</th>\n",
       "    </tr>\n",
       "  </thead>\n",
       "  <tbody>\n",
       "    <tr>\n",
       "      <th>277932</th>\n",
       "      <td>277933</td>\n",
       "      <td>B000WFKI82</td>\n",
       "      <td>A3SDS1ZRAFSKBG</td>\n",
       "      <td>FarahJoan</td>\n",
       "      <td>3</td>\n",
       "      <td>4</td>\n",
       "      <td>4</td>\n",
       "      <td>1331078400</td>\n",
       "      <td>Terrible Delivery from Amazon</td>\n",
       "      <td>We usually order this from Petco because our c...</td>\n",
       "      <td>Positive</td>\n",
       "      <td>usually order petco cat health problem eat spe...</td>\n",
       "    </tr>\n",
       "    <tr>\n",
       "      <th>241594</th>\n",
       "      <td>241595</td>\n",
       "      <td>B0081XPTBS</td>\n",
       "      <td>A25SPTJVZ8DT1Z</td>\n",
       "      <td>Bboy360 \"Image is Everything\"</td>\n",
       "      <td>2</td>\n",
       "      <td>3</td>\n",
       "      <td>4</td>\n",
       "      <td>1338336000</td>\n",
       "      <td>I guess this is the best one</td>\n",
       "      <td>The DHA and ARA doesn't bother me, I think peo...</td>\n",
       "      <td>Positive</td>\n",
       "      <td>dha ara doesnt bother think people overreactin...</td>\n",
       "    </tr>\n",
       "    <tr>\n",
       "      <th>158167</th>\n",
       "      <td>158168</td>\n",
       "      <td>B000VKA92I</td>\n",
       "      <td>A2OI4PFNCPTQ8V</td>\n",
       "      <td>Tina nagle</td>\n",
       "      <td>1</td>\n",
       "      <td>1</td>\n",
       "      <td>5</td>\n",
       "      <td>1345680000</td>\n",
       "      <td>This makes a visible difference in my dogs mot...</td>\n",
       "      <td>My dog is a rescue dog she was beaten almost t...</td>\n",
       "      <td>Positive</td>\n",
       "      <td>dog rescue dog beaten almost death kind person...</td>\n",
       "    </tr>\n",
       "    <tr>\n",
       "      <th>407952</th>\n",
       "      <td>407953</td>\n",
       "      <td>B00473JLA6</td>\n",
       "      <td>A3130BH1Z7OPD2</td>\n",
       "      <td>Bob Warner</td>\n",
       "      <td>3</td>\n",
       "      <td>3</td>\n",
       "      <td>5</td>\n",
       "      <td>1334534400</td>\n",
       "      <td>Kaffree Roma</td>\n",
       "      <td>Great way to leave Caffine behind .  I used te...</td>\n",
       "      <td>Positive</td>\n",
       "      <td>great way leave caffine behind used teabags mi...</td>\n",
       "    </tr>\n",
       "    <tr>\n",
       "      <th>227715</th>\n",
       "      <td>227716</td>\n",
       "      <td>B001FSJCPK</td>\n",
       "      <td>AQZC15SPOD5AF</td>\n",
       "      <td>lololsn</td>\n",
       "      <td>0</td>\n",
       "      <td>0</td>\n",
       "      <td>5</td>\n",
       "      <td>1334534400</td>\n",
       "      <td>My cat loves the salmon flavor.</td>\n",
       "      <td>I have to give my cat 3 pills a day. Pill pock...</td>\n",
       "      <td>Positive</td>\n",
       "      <td>give cat 3 pill day pill pocket greatest use s...</td>\n",
       "    </tr>\n",
       "  </tbody>\n",
       "</table>\n",
       "</div>"
      ],
      "text/plain": [
       "            Id   ProductId          UserId                    ProfileName  \\\n",
       "277932  277933  B000WFKI82  A3SDS1ZRAFSKBG                      FarahJoan   \n",
       "241594  241595  B0081XPTBS  A25SPTJVZ8DT1Z  Bboy360 \"Image is Everything\"   \n",
       "158167  158168  B000VKA92I  A2OI4PFNCPTQ8V                     Tina nagle   \n",
       "407952  407953  B00473JLA6  A3130BH1Z7OPD2                     Bob Warner   \n",
       "227715  227716  B001FSJCPK   AQZC15SPOD5AF                        lololsn   \n",
       "\n",
       "        HelpfulnessNumerator  HelpfulnessDenominator  Score        Time  \\\n",
       "277932                     3                       4      4  1331078400   \n",
       "241594                     2                       3      4  1338336000   \n",
       "158167                     1                       1      5  1345680000   \n",
       "407952                     3                       3      5  1334534400   \n",
       "227715                     0                       0      5  1334534400   \n",
       "\n",
       "                                                  Summary  \\\n",
       "277932                      Terrible Delivery from Amazon   \n",
       "241594                       I guess this is the best one   \n",
       "158167  This makes a visible difference in my dogs mot...   \n",
       "407952                                       Kaffree Roma   \n",
       "227715                    My cat loves the salmon flavor.   \n",
       "\n",
       "                                                     Text Sentiment  \\\n",
       "277932  We usually order this from Petco because our c...  Positive   \n",
       "241594  The DHA and ARA doesn't bother me, I think peo...  Positive   \n",
       "158167  My dog is a rescue dog she was beaten almost t...  Positive   \n",
       "407952  Great way to leave Caffine behind .  I used te...  Positive   \n",
       "227715  I have to give my cat 3 pills a day. Pill pock...  Positive   \n",
       "\n",
       "                                             cleaned_text  \n",
       "277932  usually order petco cat health problem eat spe...  \n",
       "241594  dha ara doesnt bother think people overreactin...  \n",
       "158167  dog rescue dog beaten almost death kind person...  \n",
       "407952  great way leave caffine behind used teabags mi...  \n",
       "227715  give cat 3 pill day pill pocket greatest use s...  "
      ]
     },
     "execution_count": 15,
     "metadata": {},
     "output_type": "execute_result"
    }
   ],
   "source": [
    "df.sample(5)"
   ]
  },
  {
   "cell_type": "markdown",
   "id": "c1b828c6-5ed0-4a1e-b02c-7e1ac68c2db9",
   "metadata": {},
   "source": [
    "## Text Vectorization (TF-IDF)"
   ]
  },
  {
   "cell_type": "code",
   "execution_count": 16,
   "id": "df5fe9c5-dda9-4398-9cfc-d7ceda3fc6e4",
   "metadata": {},
   "outputs": [],
   "source": [
    "from sklearn.feature_extraction.text import TfidfVectorizer\n",
    "\n",
    "vectorizer = TfidfVectorizer(max_features=5000, ngram_range=(1,2))\n",
    "X = vectorizer.fit_transform(df['cleaned_text'])\n",
    "y = df['Sentiment']"
   ]
  },
  {
   "cell_type": "code",
   "execution_count": 27,
   "id": "9056f6e2-96fb-4e75-8d05-78efe50cc4fd",
   "metadata": {},
   "outputs": [
    {
     "data": {
      "text/plain": [
       "pandas.core.series.Series"
      ]
     },
     "execution_count": 27,
     "metadata": {},
     "output_type": "execute_result"
    }
   ],
   "source": [
    "type(y)"
   ]
  },
  {
   "cell_type": "code",
   "execution_count": 25,
   "id": "d5aad664-669b-434a-ae93-6ef0fdebd020",
   "metadata": {},
   "outputs": [
    {
     "data": {
      "text/plain": [
       "scipy.sparse._csr.csr_matrix"
      ]
     },
     "execution_count": 25,
     "metadata": {},
     "output_type": "execute_result"
    }
   ],
   "source": [
    "type(X)"
   ]
  },
  {
   "cell_type": "markdown",
   "id": "99c643c8-eee7-40c1-988b-9e6c24b695ac",
   "metadata": {},
   "source": [
    "## Train-Test Split & Model Training"
   ]
  },
  {
   "cell_type": "code",
   "execution_count": 28,
   "id": "4f43f4ee-6383-48e5-a308-a04594593a55",
   "metadata": {},
   "outputs": [
    {
     "name": "stdout",
     "output_type": "stream",
     "text": [
      "              precision    recall  f1-score   support\n",
      "\n",
      "    Negative       0.74      0.68      0.71     16407\n",
      "     Neutral       0.53      0.21      0.30      8528\n",
      "    Positive       0.90      0.97      0.93     88756\n",
      "\n",
      "    accuracy                           0.87    113691\n",
      "   macro avg       0.72      0.62      0.65    113691\n",
      "weighted avg       0.85      0.87      0.85    113691\n",
      "\n"
     ]
    }
   ],
   "source": [
    "from sklearn.model_selection import train_test_split\n",
    "from sklearn.linear_model import LogisticRegression\n",
    "from sklearn.metrics import classification_report\n",
    "\n",
    "X_train, X_test, y_train, y_test = train_test_split(X,y,test_size=0.2, random_state=42, stratify=y)\n",
    "\n",
    "model = LogisticRegression(max_iter=300)\n",
    "model.fit(X_train, y_train)\n",
    "\n",
    "y_pred = model.predict(X_test)\n",
    "print(classification_report(y_test,y_pred))"
   ]
  },
  {
   "cell_type": "markdown",
   "id": "6d9eb1b8-5d33-4871-85f1-d0cf6710d597",
   "metadata": {},
   "source": [
    "### visualizing confusion matrix"
   ]
  },
  {
   "cell_type": "code",
   "execution_count": 30,
   "id": "35bc8c7d-4d19-44af-b1f3-6e39b8bc67e5",
   "metadata": {},
   "outputs": [
    {
     "data": {
      "image/png": "[encoded data removed]",
      "text/plain": [
       "<Figure size 640x480 with 2 Axes>"
      ]
     },
     "metadata": {},
     "output_type": "display_data"
    }
   ],
   "source": [
    "from sklearn.metrics import confusion_matrix\n",
    "import seaborn as sns\n",
    "import matplotlib.pyplot as plt\n",
    "\n",
    "cm = confusion_matrix(y_test, y_pred, labels=['Negative','Positive'])\n",
    "sns.heatmap(cm, annot=True, fmt='d', cmap = 'Blues', xticklabels=['Negative','Positive'],yticklabels=['Negative','Positive'])\n",
    "plt.show()"
   ]
  },
  {
   "cell_type": "markdown",
   "id": "df419cc6-d672-4ea7-88da-40d0798184f3",
   "metadata": {},
   "source": [
    "## Predict on New Reviews"
   ]
  },
  {
   "cell_type": "code",
   "execution_count": 56,
   "id": "488963cb-7878-4fc8-9bc2-e680687ad077",
   "metadata": {},
   "outputs": [
    {
     "ename": "NameError",
     "evalue": "name 'clean_text' is not defined",
     "output_type": "error",
     "traceback": [
      "\u001b[31m---------------------------------------------------------------------------\u001b[39m",
      "\u001b[31mNameError\u001b[39m                                 Traceback (most recent call last)",
      "\u001b[36mCell\u001b[39m\u001b[36m \u001b[39m\u001b[32mIn[56]\u001b[39m\u001b[32m, line 3\u001b[39m\n\u001b[32m      1\u001b[39m sample = [\u001b[33m\"\u001b[39m\u001b[33mThe product quality is excellent and I love it!\u001b[39m\u001b[33m\"\u001b[39m, \n\u001b[32m      2\u001b[39m           \u001b[33m\"\u001b[39m\u001b[33mIt was good product.\u001b[39m\u001b[33m\"\u001b[39m]\n\u001b[32m----> \u001b[39m\u001b[32m3\u001b[39m cleaned = [clean_text(x) \u001b[38;5;28;01mfor\u001b[39;00m x \u001b[38;5;129;01min\u001b[39;00m sample]\n\u001b[32m      4\u001b[39m X_new = vectorizer.transform(cleaned)\n\u001b[32m      5\u001b[39m pred = model.predict(X_new)\n",
      "\u001b[31mNameError\u001b[39m: name 'clean_text' is not defined"
     ]
    }
   ],
   "source": [
    "sample = [\"The product quality is excellent and I love it!\", \n",
    "          \"It was good product.\"]\n",
    "cleaned = [clean_text(x) for x in sample]\n",
    "X_new = vectorizer.transform(cleaned)\n",
    "pred = model.predict(X_new)\n",
    "print(pred)"
   ]
  },
  {
   "cell_type": "markdown",
   "id": "9aa11573-e54b-4155-80d9-a1dacce9042b",
   "metadata": {},
   "source": [
    "# 2) Using BERT"
   ]
  },
  {
   "cell_type": "code",
   "execution_count": 33,
   "id": "8e3fac36-b098-410c-98ad-77d045b6fe27",
   "metadata": {
    "scrolled": true
   },
   "outputs": [
    {
     "name": "stdout",
     "output_type": "stream",
     "text": [
      "Requirement already satisfied: transformers in c:\\users\\janinisa\\appdata\\local\\miniconda3\\lib\\site-packages (4.57.1)\n",
      "Collecting datasets\n",
      "  Downloading datasets-4.3.0-py3-none-any.whl.metadata (18 kB)\n",
      "Requirement already satisfied: torch in c:\\users\\janinisa\\appdata\\local\\miniconda3\\lib\\site-packages (2.9.0)\n",
      "Requirement already satisfied: scikit-learn in c:\\users\\janinisa\\appdata\\local\\miniconda3\\lib\\site-packages (1.7.2)\n",
      "Requirement already satisfied: filelock in c:\\users\\janinisa\\appdata\\local\\miniconda3\\lib\\site-packages (from transformers) (3.20.0)\n",
      "Requirement already satisfied: huggingface-hub<1.0,>=0.34.0 in c:\\users\\janinisa\\appdata\\local\\miniconda3\\lib\\site-packages (from transformers) (0.36.0)\n",
      "Requirement already satisfied: numpy>=1.17 in c:\\users\\janinisa\\appdata\\local\\miniconda3\\lib\\site-packages (from transformers) (2.3.2)\n",
      "Requirement already satisfied: packaging>=20.0 in c:\\users\\janinisa\\appdata\\local\\miniconda3\\lib\\site-packages (from transformers) (24.2)\n",
      "Requirement already satisfied: pyyaml>=5.1 in c:\\users\\janinisa\\appdata\\local\\miniconda3\\lib\\site-packages (from transformers) (6.0.2)\n",
      "Requirement already satisfied: regex!=2019.12.17 in c:\\users\\janinisa\\appdata\\local\\miniconda3\\lib\\site-packages (from transformers) (2025.10.23)\n",
      "Requirement already satisfied: requests in c:\\users\\janinisa\\appdata\\local\\miniconda3\\lib\\site-packages (from transformers) (2.32.4)\n",
      "Requirement already satisfied: tokenizers<=0.23.0,>=0.22.0 in c:\\users\\janinisa\\appdata\\local\\miniconda3\\lib\\site-packages (from transformers) (0.22.1)\n",
      "Requirement already satisfied: safetensors>=0.4.3 in c:\\users\\janinisa\\appdata\\local\\miniconda3\\lib\\site-packages (from transformers) (0.6.2)\n",
      "Requirement already satisfied: tqdm>=4.27 in c:\\users\\janinisa\\appdata\\local\\miniconda3\\lib\\site-packages (from transformers) (4.67.1)\n",
      "Requirement already satisfied: fsspec>=2023.5.0 in c:\\users\\janinisa\\appdata\\local\\miniconda3\\lib\\site-packages (from huggingface-hub<1.0,>=0.34.0->transformers) (2025.9.0)\n",
      "Requirement already satisfied: typing-extensions>=3.7.4.3 in c:\\users\\janinisa\\appdata\\local\\miniconda3\\lib\\site-packages (from huggingface-hub<1.0,>=0.34.0->transformers) (4.12.2)\n",
      "Requirement already satisfied: pyarrow>=21.0.0 in c:\\users\\janinisa\\appdata\\local\\miniconda3\\lib\\site-packages (from datasets) (21.0.0)\n",
      "Collecting dill<0.4.1,>=0.3.0 (from datasets)\n",
      "  Downloading dill-0.4.0-py3-none-any.whl.metadata (10 kB)\n",
      "Requirement already satisfied: pandas in c:\\users\\janinisa\\appdata\\local\\miniconda3\\lib\\site-packages (from datasets) (2.3.1)\n",
      "Requirement already satisfied: httpx<1.0.0 in c:\\users\\janinisa\\appdata\\local\\miniconda3\\lib\\site-packages (from datasets) (0.28.1)\n",
      "Collecting xxhash (from datasets)\n",
      "  Downloading xxhash-3.6.0-cp313-cp313-win_amd64.whl.metadata (13 kB)\n",
      "Collecting multiprocess<0.70.17 (from datasets)\n",
      "  Downloading multiprocess-0.70.16-py312-none-any.whl.metadata (7.2 kB)\n",
      "Collecting aiohttp!=4.0.0a0,!=4.0.0a1 (from fsspec[http]<=2025.9.0,>=2023.1.0->datasets)\n",
      "  Downloading aiohttp-3.13.1-cp313-cp313-win_amd64.whl.metadata (8.4 kB)\n",
      "Requirement already satisfied: anyio in c:\\users\\janinisa\\appdata\\local\\miniconda3\\lib\\site-packages (from httpx<1.0.0->datasets) (4.7.0)\n",
      "Requirement already satisfied: certifi in c:\\users\\janinisa\\appdata\\local\\miniconda3\\lib\\site-packages (from httpx<1.0.0->datasets) (2025.7.14)\n",
      "Requirement already satisfied: httpcore==1.* in c:\\users\\janinisa\\appdata\\local\\miniconda3\\lib\\site-packages (from httpx<1.0.0->datasets) (1.0.9)\n",
      "Requirement already satisfied: idna in c:\\users\\janinisa\\appdata\\local\\miniconda3\\lib\\site-packages (from httpx<1.0.0->datasets) (3.7)\n",
      "Requirement already satisfied: h11>=0.16 in c:\\users\\janinisa\\appdata\\local\\miniconda3\\lib\\site-packages (from httpcore==1.*->httpx<1.0.0->datasets) (0.16.0)\n",
      "Requirement already satisfied: sympy>=1.13.3 in c:\\users\\janinisa\\appdata\\local\\miniconda3\\lib\\site-packages (from torch) (1.14.0)\n",
      "Requirement already satisfied: networkx>=2.5.1 in c:\\users\\janinisa\\appdata\\local\\miniconda3\\lib\\site-packages (from torch) (3.5)\n",
      "Requirement already satisfied: jinja2 in c:\\users\\janinisa\\appdata\\local\\miniconda3\\lib\\site-packages (from torch) (3.1.6)\n",
      "Requirement already satisfied: setuptools in c:\\users\\janinisa\\appdata\\local\\miniconda3\\lib\\site-packages (from torch) (78.1.1)\n",
      "Requirement already satisfied: scipy>=1.8.0 in c:\\users\\janinisa\\appdata\\local\\miniconda3\\lib\\site-packages (from scikit-learn) (1.16.2)\n",
      "Requirement already satisfied: joblib>=1.2.0 in c:\\users\\janinisa\\appdata\\local\\miniconda3\\lib\\site-packages (from scikit-learn) (1.5.2)\n",
      "Requirement already satisfied: threadpoolctl>=3.1.0 in c:\\users\\janinisa\\appdata\\local\\miniconda3\\lib\\site-packages (from scikit-learn) (3.6.0)\n",
      "Collecting aiohappyeyeballs>=2.5.0 (from aiohttp!=4.0.0a0,!=4.0.0a1->fsspec[http]<=2025.9.0,>=2023.1.0->datasets)\n",
      "  Downloading aiohappyeyeballs-2.6.1-py3-none-any.whl.metadata (5.9 kB)\n",
      "Collecting aiosignal>=1.4.0 (from aiohttp!=4.0.0a0,!=4.0.0a1->fsspec[http]<=2025.9.0,>=2023.1.0->datasets)\n",
      "  Downloading aiosignal-1.4.0-py3-none-any.whl.metadata (3.7 kB)\n",
      "Requirement already satisfied: attrs>=17.3.0 in c:\\users\\janinisa\\appdata\\local\\miniconda3\\lib\\site-packages (from aiohttp!=4.0.0a0,!=4.0.0a1->fsspec[http]<=2025.9.0,>=2023.1.0->datasets) (24.3.0)\n",
      "Collecting frozenlist>=1.1.1 (from aiohttp!=4.0.0a0,!=4.0.0a1->fsspec[http]<=2025.9.0,>=2023.1.0->datasets)\n",
      "  Downloading frozenlist-1.8.0-cp313-cp313-win_amd64.whl.metadata (21 kB)\n",
      "Collecting multidict<7.0,>=4.5 (from aiohttp!=4.0.0a0,!=4.0.0a1->fsspec[http]<=2025.9.0,>=2023.1.0->datasets)\n",
      "  Downloading multidict-6.7.0-cp313-cp313-win_amd64.whl.metadata (5.5 kB)\n",
      "Collecting propcache>=0.2.0 (from aiohttp!=4.0.0a0,!=4.0.0a1->fsspec[http]<=2025.9.0,>=2023.1.0->datasets)\n",
      "  Downloading propcache-0.4.1-cp313-cp313-win_amd64.whl.metadata (14 kB)\n",
      "Collecting yarl<2.0,>=1.17.0 (from aiohttp!=4.0.0a0,!=4.0.0a1->fsspec[http]<=2025.9.0,>=2023.1.0->datasets)\n",
      "  Downloading yarl-1.22.0-cp313-cp313-win_amd64.whl.metadata (77 kB)\n",
      "Requirement already satisfied: charset_normalizer<4,>=2 in c:\\users\\janinisa\\appdata\\local\\miniconda3\\lib\\site-packages (from requests->transformers) (3.3.2)\n",
      "Requirement already satisfied: urllib3<3,>=1.21.1 in c:\\users\\janinisa\\appdata\\local\\miniconda3\\lib\\site-packages (from requests->transformers) (2.5.0)\n",
      "Requirement already satisfied: mpmath<1.4,>=1.1.0 in c:\\users\\janinisa\\appdata\\local\\miniconda3\\lib\\site-packages (from sympy>=1.13.3->torch) (1.3.0)\n",
      "Requirement already satisfied: colorama in c:\\users\\janinisa\\appdata\\local\\miniconda3\\lib\\site-packages (from tqdm>=4.27->transformers) (0.4.6)\n",
      "Requirement already satisfied: sniffio>=1.1 in c:\\users\\janinisa\\appdata\\local\\miniconda3\\lib\\site-packages (from anyio->httpx<1.0.0->datasets) (1.3.0)\n",
      "Requirement already satisfied: MarkupSafe>=2.0 in c:\\users\\janinisa\\appdata\\local\\miniconda3\\lib\\site-packages (from jinja2->torch) (3.0.2)\n",
      "Requirement already satisfied: python-dateutil>=2.8.2 in c:\\users\\janinisa\\appdata\\local\\miniconda3\\lib\\site-packages (from pandas->datasets) (2.9.0.post0)\n",
      "Requirement already satisfied: pytz>=2020.1 in c:\\users\\janinisa\\appdata\\local\\miniconda3\\lib\\site-packages (from pandas->datasets) (2025.2)\n",
      "Requirement already satisfied: tzdata>=2022.7 in c:\\users\\janinisa\\appdata\\local\\miniconda3\\lib\\site-packages (from pandas->datasets) (2025.2)\n",
      "Requirement already satisfied: six>=1.5 in c:\\users\\janinisa\\appdata\\local\\miniconda3\\lib\\site-packages (from python-dateutil>=2.8.2->pandas->datasets) (1.17.0)\n",
      "Downloading datasets-4.3.0-py3-none-any.whl (506 kB)\n",
      "Downloading dill-0.4.0-py3-none-any.whl (119 kB)\n",
      "Downloading multiprocess-0.70.16-py312-none-any.whl (146 kB)\n",
      "Downloading aiohttp-3.13.1-cp313-cp313-win_amd64.whl (450 kB)\n",
      "Downloading multidict-6.7.0-cp313-cp313-win_amd64.whl (45 kB)\n",
      "Downloading yarl-1.22.0-cp313-cp313-win_amd64.whl (86 kB)\n",
      "Downloading aiohappyeyeballs-2.6.1-py3-none-any.whl (15 kB)\n",
      "Downloading aiosignal-1.4.0-py3-none-any.whl (7.5 kB)\n",
      "Downloading frozenlist-1.8.0-cp313-cp313-win_amd64.whl (43 kB)\n",
      "Downloading propcache-0.4.1-cp313-cp313-win_amd64.whl (40 kB)\n",
      "Downloading xxhash-3.6.0-cp313-cp313-win_amd64.whl (31 kB)\n",
      "Installing collected packages: xxhash, propcache, multidict, frozenlist, dill, aiohappyeyeballs, yarl, multiprocess, aiosignal, aiohttp, datasets\n",
      "\n",
      "   ------- --------------------------------  2/11 [multidict]\n",
      "   -------------- -------------------------  4/11 [dill]\n",
      "   -------------- -------------------------  4/11 [dill]\n",
      "   -------------- -------------------------  4/11 [dill]\n",
      "   -------------- -------------------------  4/11 [dill]\n",
      "   -------------- -------------------------  4/11 [dill]\n",
      "   ------------------ ---------------------  5/11 [aiohappyeyeballs]\n",
      "   --------------------- ------------------  6/11 [yarl]\n",
      "   ------------------------- --------------  7/11 [multiprocess]\n",
      "   ------------------------- --------------  7/11 [multiprocess]\n",
      "   ------------------------- --------------  7/11 [multiprocess]\n",
      "   ------------------------- --------------  7/11 [multiprocess]\n",
      "   -------------------------------- -------  9/11 [aiohttp]\n",
      "   -------------------------------- -------  9/11 [aiohttp]\n",
      "   -------------------------------- -------  9/11 [aiohttp]\n",
      "   -------------------------------- -------  9/11 [aiohttp]\n",
      "   -------------------------------- -------  9/11 [aiohttp]\n",
      "   -------------------------------- -------  9/11 [aiohttp]\n",
      "   -------------------------------- -------  9/11 [aiohttp]\n",
      "   ------------------------------------ --- 10/11 [datasets]\n",
      "   ------------------------------------ --- 10/11 [datasets]\n",
      "   ------------------------------------ --- 10/11 [datasets]\n",
      "   ------------------------------------ --- 10/11 [datasets]\n",
      "   ------------------------------------ --- 10/11 [datasets]\n",
      "   ------------------------------------ --- 10/11 [datasets]\n",
      "   ------------------------------------ --- 10/11 [datasets]\n",
      "   ------------------------------------ --- 10/11 [datasets]\n",
      "   ------------------------------------ --- 10/11 [datasets]\n",
      "   ------------------------------------ --- 10/11 [datasets]\n",
      "   ------------------------------------ --- 10/11 [datasets]\n",
      "   ------------------------------------ --- 10/11 [datasets]\n",
      "   ------------------------------------ --- 10/11 [datasets]\n",
      "   ---------------------------------------- 11/11 [datasets]\n",
      "\n",
      "Successfully installed aiohappyeyeballs-2.6.1 aiohttp-3.13.1 aiosignal-1.4.0 datasets-4.3.0 dill-0.4.0 frozenlist-1.8.0 multidict-6.7.0 multiprocess-0.70.16 propcache-0.4.1 xxhash-3.6.0 yarl-1.22.0\n"
     ]
    }
   ],
   "source": []
  },
  {
   "cell_type": "code",
   "execution_count": 1,
   "id": "25713d09-c032-4cf8-9a5c-e436fe5b6966",
   "metadata": {},
   "outputs": [],
   "source": []
  },
  {
   "cell_type": "code",
   "execution_count": 102,
   "id": "63c0d272-2460-4d13-8157-8ac860430096",
   "metadata": {},
   "outputs": [],
   "source": [
    "import torch\n",
    "from transformers import BertTokenizer, BertForSequenceClassification, Trainer, TrainingArguments, DataCollatorWithPadding\n",
    "from datasets import load_dataset, Dataset\n",
    "from sklearn.model_selection import train_test_split\n",
    "import pandas as pd"
   ]
  },
  {
   "cell_type": "markdown",
   "id": "c6186a1b-799f-4cfc-b6bf-34679ef32f82",
   "metadata": {},
   "source": [
    "## Load and Prepare Your Dataset"
   ]
  },
  {
   "cell_type": "code",
   "execution_count": 126,
   "id": "948d1d36-c454-4121-b3da-5910847d3ab4",
   "metadata": {},
   "outputs": [],
   "source": [
    "data =df[['Text','Sentiment']]"
   ]
  },
  {
   "cell_type": "code",
   "execution_count": 127,
   "id": "e8f7d7b2-8f18-40a3-b77b-fb884654933c",
   "metadata": {},
   "outputs": [
    {
     "name": "stderr",
     "output_type": "stream",
     "text": [
      "C:\\Users\\janinisa\\AppData\\Local\\Temp\\ipykernel_3892\\150988234.py:1: SettingWithCopyWarning: \n",
      "A value is trying to be set on a copy of a slice from a DataFrame\n",
      "\n",
      "See the caveats in the documentation: https://pandas.pydata.org/pandas-docs/stable/user_guide/indexing.html#returning-a-view-versus-a-copy\n",
      "  data.rename(columns={'Text':'review_text'},inplace=True)\n"
     ]
    }
   ],
   "source": [
    "data.rename(columns={'Text':'review_text'},inplace=True)"
   ]
  },
  {
   "cell_type": "code",
   "execution_count": 128,
   "id": "bbb46fc5-3cd7-4621-8de6-24c23322991d",
   "metadata": {},
   "outputs": [
    {
     "name": "stderr",
     "output_type": "stream",
     "text": [
      "C:\\Users\\janinisa\\AppData\\Local\\Temp\\ipykernel_3892\\1218865742.py:7: SettingWithCopyWarning: \n",
      "A value is trying to be set on a copy of a slice from a DataFrame.\n",
      "Try using .loc[row_indexer,col_indexer] = value instead\n",
      "\n",
      "See the caveats in the documentation: https://pandas.pydata.org/pandas-docs/stable/user_guide/indexing.html#returning-a-view-versus-a-copy\n",
      "  data['Sentiment'] = data['Sentiment'].map(sentiment_map).astype('int32')\n"
     ]
    }
   ],
   "source": [
    "sentiment_map = {\n",
    "    'Positive' : 1,\n",
    "    'Negative' : 0,\n",
    "    'Neutral' : 2\n",
    "}\n",
    "\n",
    "data['Sentiment'] = data['Sentiment'].map(sentiment_map).astype('int32')"
   ]
  },
  {
   "cell_type": "code",
   "execution_count": 129,
   "id": "c7cf7efe-db6e-4a0d-ab8d-97cc1c1190dc",
   "metadata": {},
   "outputs": [
    {
     "name": "stdout",
     "output_type": "stream",
     "text": [
      "<class 'pandas.core.frame.DataFrame'>\n",
      "RangeIndex: 568454 entries, 0 to 568453\n",
      "Data columns (total 2 columns):\n",
      " #   Column       Non-Null Count   Dtype \n",
      "---  ------       --------------   ----- \n",
      " 0   review_text  568454 non-null  object\n",
      " 1   Sentiment    568454 non-null  int32 \n",
      "dtypes: int32(1), object(1)\n",
      "memory usage: 6.5+ MB\n"
     ]
    },
    {
     "data": {
      "text/plain": [
       "(None,\n",
       " Sentiment\n",
       " 1    443777\n",
       " 0     82037\n",
       " 2     42640\n",
       " Name: count, dtype: int64)"
      ]
     },
     "execution_count": 129,
     "metadata": {},
     "output_type": "execute_result"
    }
   ],
   "source": [
    "data.info(), data['Sentiment'].value_counts()"
   ]
  },
  {
   "cell_type": "markdown",
   "id": "95e76fa5-04f8-471d-a96a-35e9ddc165c1",
   "metadata": {},
   "source": [
    "## Sampling Data"
   ]
  },
  {
   "cell_type": "code",
   "execution_count": 130,
   "id": "0e8adbf9-54e6-45da-8977-5849f4739fb1",
   "metadata": {},
   "outputs": [
    {
     "name": "stderr",
     "output_type": "stream",
     "text": [
      "C:\\Users\\janinisa\\AppData\\Local\\Temp\\ipykernel_3892\\3373112487.py:5: FutureWarning: DataFrameGroupBy.apply operated on the grouping columns. This behavior is deprecated, and in a future version of pandas the grouping columns will be excluded from the operation. Either pass `include_groups=False` to exclude the groupings or explicitly select the grouping columns after groupby to silence this warning.\n",
      "  data_sampled = data.groupby('Sentiment', group_keys=False).apply(\n"
     ]
    }
   ],
   "source": [
    "from sklearn.utils import resample\n",
    "\n",
    "# Keep class balance proportional\n",
    "sample_size = 3000  # adjust between 1000–5000 depending on your CPU\n",
    "data_sampled = data.groupby('Sentiment', group_keys=False).apply(\n",
    "    lambda x: x.sample(frac=sample_size / len(data), random_state=42)\n",
    ")"
   ]
  },
  {
   "cell_type": "code",
   "execution_count": 131,
   "id": "5724842e-46a2-4bca-88a5-addc42c24bc6",
   "metadata": {},
   "outputs": [
    {
     "name": "stdout",
     "output_type": "stream",
     "text": [
      "<class 'pandas.core.frame.DataFrame'>\n",
      "Index: 3000 entries, 525327 to 183351\n",
      "Data columns (total 2 columns):\n",
      " #   Column       Non-Null Count  Dtype \n",
      "---  ------       --------------  ----- \n",
      " 0   review_text  3000 non-null   object\n",
      " 1   Sentiment    3000 non-null   int32 \n",
      "dtypes: int32(1), object(1)\n",
      "memory usage: 58.6+ KB\n"
     ]
    },
    {
     "data": {
      "text/plain": [
       "(None,\n",
       " Sentiment\n",
       " 1    2342\n",
       " 0     433\n",
       " 2     225\n",
       " Name: count, dtype: int64)"
      ]
     },
     "execution_count": 131,
     "metadata": {},
     "output_type": "execute_result"
    }
   ],
   "source": [
    "data_sampled.info(), data_sampled['Sentiment'].value_counts()"
   ]
  },
  {
   "cell_type": "code",
   "execution_count": 109,
   "id": "5dff2a83-f9e5-42de-a051-0e547f662860",
   "metadata": {},
   "outputs": [
    {
     "data": {
      "text/plain": [
       "'\\ndata = pd.DataFrame({\\n    \\'review_text\\': [\\n        \"This product is fantastic!\",\\n        \"Worst purchase ever.\",\\n        \"Average experience, nothing special.\",\\n        \"Loved it, highly recommend!\"\\n    ],\\n    \\'sentiment\\': [1,0,2,1] # 1 = Positive, 0 = Negative, 2 = Neutral\\n})\\n'"
      ]
     },
     "execution_count": 109,
     "metadata": {},
     "output_type": "execute_result"
    }
   ],
   "source": [
    "'''\n",
    "data = pd.DataFrame({\n",
    "    'review_text': [\n",
    "        \"This product is fantastic!\",\n",
    "        \"Worst purchase ever.\",\n",
    "        \"Average experience, nothing special.\",\n",
    "        \"Loved it, highly recommend!\"\n",
    "    ],\n",
    "    'sentiment': [1,0,2,1] # 1 = Positive, 0 = Negative, 2 = Neutral\n",
    "})\n",
    "'''"
   ]
  },
  {
   "cell_type": "code",
   "execution_count": 132,
   "id": "deb4986a-9b3f-410c-9f36-50d123ac8577",
   "metadata": {},
   "outputs": [],
   "source": [
    "train_df, test_df = train_test_split(data_sampled, test_size=0.2, random_state=42)\n",
    "train_dataset = Dataset.from_pandas(train_df)\n",
    "test_dataset = Dataset.from_pandas(test_df)"
   ]
  },
  {
   "cell_type": "code",
   "execution_count": 133,
   "id": "b82d919f-b827-4d05-87f4-552fd3cc882b",
   "metadata": {},
   "outputs": [
    {
     "data": {
      "text/plain": [
       "['review_text', 'Sentiment', '__index_level_0__']"
      ]
     },
     "execution_count": 133,
     "metadata": {},
     "output_type": "execute_result"
    }
   ],
   "source": [
    "train_dataset.column_names"
   ]
  },
  {
   "cell_type": "markdown",
   "id": "21f04ab4-6508-4ef4-9464-084e4185cd7f",
   "metadata": {},
   "source": [
    "## Tokenize Text"
   ]
  },
  {
   "cell_type": "code",
   "execution_count": 111,
   "id": "8b2ea0b9-7688-4e91-a2da-53d8c5d47c4f",
   "metadata": {},
   "outputs": [
    {
     "name": "stderr",
     "output_type": "stream",
     "text": [
      "Map: 100%|█████████████████████████████████████████████████████████████████| 2400/2400 [00:04<00:00, 585.97 examples/s]\n",
      "Map: 100%|███████████████████████████████████████████████████████████████████| 600/600 [00:01<00:00, 589.81 examples/s]\n"
     ]
    }
   ],
   "source": [
    "tokenizer = BertTokenizer.from_pretrained('bert-base-uncased')\n",
    "\n",
    "def tokenize_function(example):\n",
    "    tokenized = tokenizer(\n",
    "        example['review_text'],\n",
    "        truncation=True,\n",
    "        padding = 'max_length',\n",
    "        max_length=128\n",
    "    )\n",
    "    tokenized['labels'] = example['Sentiment']\n",
    "    return tokenized\n",
    "\n",
    "train_dataset = train_dataset.map(tokenize_function, batched=True)\n",
    "test_dataset = test_dataset.map(tokenize_function, batched=True)"
   ]
  },
  {
   "cell_type": "code",
   "execution_count": 112,
   "id": "4fc7b166-0666-4783-b129-e3025c7d92c0",
   "metadata": {},
   "outputs": [
    {
     "data": {
      "text/plain": [
       "['review_text',\n",
       " 'Sentiment',\n",
       " '__index_level_0__',\n",
       " 'input_ids',\n",
       " 'token_type_ids',\n",
       " 'attention_mask',\n",
       " 'labels']"
      ]
     },
     "execution_count": 112,
     "metadata": {},
     "output_type": "execute_result"
    }
   ],
   "source": [
    "train_dataset.column_names"
   ]
  },
  {
   "cell_type": "code",
   "execution_count": 113,
   "id": "e79e54d6-89b0-4371-a72e-cfc8b35a6e71",
   "metadata": {},
   "outputs": [],
   "source": [
    "#Remove Unnecessary Columns \n",
    "\n",
    "columns_to_remove = ['review_text', '__index_level_0__']\n",
    "train_dataset = train_dataset.remove_columns(columns_to_remove)\n",
    "test_dataset = test_dataset.remove_columns(columns_to_remove)"
   ]
  },
  {
   "cell_type": "markdown",
   "id": "3fd49e96-42e0-48aa-bb7d-05ef65f3edd9",
   "metadata": {},
   "source": [
    "## Load Pretrained BERT Model "
   ]
  },
  {
   "cell_type": "code",
   "execution_count": 114,
   "id": "d421708f-9efe-41cb-a7ad-2bd0f1b1250b",
   "metadata": {},
   "outputs": [
    {
     "name": "stderr",
     "output_type": "stream",
     "text": [
      "Some weights of BertForSequenceClassification were not initialized from the model checkpoint at bert-base-uncased and are newly initialized: ['classifier.bias', 'classifier.weight']\n",
      "You should probably TRAIN this model on a down-stream task to be able to use it for predictions and inference.\n"
     ]
    }
   ],
   "source": [
    "num_labels = len(data['Sentiment'].unique())\n",
    "model = BertForSequenceClassification.from_pretrained('bert-base-uncased',num_labels=num_labels)"
   ]
  },
  {
   "cell_type": "markdown",
   "id": "f8318cd0-0934-49c0-986e-e2eee789ad59",
   "metadata": {},
   "source": [
    "## Define Training Arguments"
   ]
  },
  {
   "cell_type": "code",
   "execution_count": 115,
   "id": "11ddff3f-9c2e-496c-b31c-98792e62b0fc",
   "metadata": {},
   "outputs": [
    {
     "name": "stderr",
     "output_type": "stream",
     "text": [
      "C:\\Users\\janinisa\\AppData\\Local\\miniconda3\\Lib\\site-packages\\transformers\\training_args.py:1636: FutureWarning: using `no_cuda` is deprecated and will be removed in version 5.0 of 🤗 Transformers. Use `use_cpu` instead\n",
      "  warnings.warn(\n"
     ]
    }
   ],
   "source": [
    "training_args = TrainingArguments(\n",
    "    output_dir='./result',\n",
    "    eval_strategy='epoch',\n",
    "    save_strategy='no',  # Disable saving\n",
    "    learning_rate=2e-5,\n",
    "    per_device_train_batch_size=8,\n",
    "    per_device_eval_batch_size=8,\n",
    "    num_train_epochs=1,\n",
    "    weight_decay=0.01,\n",
    "    logging_dir='./logs',\n",
    "    save_total_limit=0,  # Don't save any checkpoints\n",
    "    no_cuda=True,  # Force CPU if GPU issues exist\n",
    ")"
   ]
  },
  {
   "cell_type": "markdown",
   "id": "6d4bd710-9913-4dba-a769-0408150cd174",
   "metadata": {},
   "source": [
    "## Define Trainer"
   ]
  },
  {
   "cell_type": "code",
   "execution_count": 116,
   "id": "77f78ac7-89c8-4cc6-b85a-81c95182f5fd",
   "metadata": {},
   "outputs": [],
   "source": [
    "trainer = Trainer(\n",
    "    model= model,\n",
    "    args= training_args,\n",
    "    train_dataset=train_dataset,\n",
    "    eval_dataset=test_dataset,\n",
    "    data_collator=DataCollatorWithPadding(tokenizer=tokenizer),\n",
    ")"
   ]
  },
  {
   "cell_type": "markdown",
   "id": "6d54d610-35a4-427e-b7f7-9b9c3a77052e",
   "metadata": {},
   "source": [
    "## Train the Model"
   ]
  },
  {
   "cell_type": "code",
   "execution_count": 117,
   "id": "aea3fe9d-54d2-4c29-9efc-cccb9acc8e84",
   "metadata": {},
   "outputs": [
    {
     "data": {
      "text/html": [
       "\n",
       "    <div>\n",
       "      \n",
       "      <progress value='300' max='300' style='width:300px; height:20px; vertical-align: middle;'></progress>\n",
       "      [300/300 20:16, Epoch 1/1]\n",
       "    </div>\n",
       "    <table border=\"1\" class=\"dataframe\">\n",
       "  <thead>\n",
       " <tr style=\"text-align: left;\">\n",
       "      <th>Epoch</th>\n",
       "      <th>Training Loss</th>\n",
       "      <th>Validation Loss</th>\n",
       "    </tr>\n",
       "  </thead>\n",
       "  <tbody>\n",
       "    <tr>\n",
       "      <td>1</td>\n",
       "      <td>No log</td>\n",
       "      <td>0.405185</td>\n",
       "    </tr>\n",
       "  </tbody>\n",
       "</table><p>"
      ],
      "text/plain": [
       "<IPython.core.display.HTML object>"
      ]
     },
     "metadata": {},
     "output_type": "display_data"
    },
    {
     "data": {
      "text/plain": [
       "TrainOutput(global_step=300, training_loss=0.4775781758626302, metrics={'train_runtime': 1222.1828, 'train_samples_per_second': 1.964, 'train_steps_per_second': 0.245, 'total_flos': 157868050636800.0, 'train_loss': 0.4775781758626302, 'epoch': 1.0})"
      ]
     },
     "execution_count": 117,
     "metadata": {},
     "output_type": "execute_result"
    }
   ],
   "source": [
    "trainer.train()"
   ]
  },
  {
   "cell_type": "markdown",
   "id": "53bc30b5-163e-43dc-9246-65168a6a2285",
   "metadata": {},
   "source": [
    "## Evaluate or Predict on New Data"
   ]
  },
  {
   "cell_type": "code",
   "execution_count": 124,
   "id": "2351d223-8216-426c-b977-d9f88f6ecaf0",
   "metadata": {},
   "outputs": [],
   "source": [
    "test_texts = [\n",
    "    \"I did No absolutely love this!\",\n",
    "    \" Worthy the price.\"\n",
    "]"
   ]
  },
  {
   "cell_type": "code",
   "execution_count": 125,
   "id": "c353f81e-1b93-4eb2-9902-b6de08664d69",
   "metadata": {},
   "outputs": [
    {
     "name": "stdout",
     "output_type": "stream",
     "text": [
      "tensor([0, 1])\n"
     ]
    }
   ],
   "source": [
    "inputs = tokenizer(test_texts,return_tensors='pt',truncation=True,padding=True,max_length=128)\n",
    "outputs = model(**inputs)\n",
    "predictions = torch.argmax(outputs.logits, dim=-1)\n",
    "\n",
    "print(predictions)"
   ]
  },
  {
   "cell_type": "code",
   "execution_count": null,
   "id": "aaeeb9f4-7d09-46c3-a7a9-640b2e79768f",
   "metadata": {},
   "outputs": [],
   "source": []
  }
 ],
 "metadata": {
  "kernelspec": {
   "display_name": "Python 3 (ipykernel)",
   "language": "python",
   "name": "python3"
  },
  "language_info": {
   "codemirror_mode": {
    "name": "ipython",
    "version": 3
   },
   "file_extension": ".py",
   "mimetype": "text/x-python",
   "name": "python",
   "nbconvert_exporter": "python",
   "pygments_lexer": "ipython3",
   "version": "3.13.5"
  }
 },
 "nbformat": 4,
 "nbformat_minor": 5
}
